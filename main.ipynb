{
 "cells": [
  {
   "cell_type": "code",
   "execution_count": 9,
   "id": "f0722b09-b86d-4067-9134-7abf7976c79a",
   "metadata": {},
   "outputs": [
    {
     "name": "stdout",
     "output_type": "stream",
     "text": [
      "Found existing installation: numpy 1.26.4\n",
      "Uninstalling numpy-1.26.4:\n",
      "  Successfully uninstalled numpy-1.26.4\n",
      "Found existing installation: thinc 8.2.2\n",
      "Uninstalling thinc-8.2.2:\n",
      "  Successfully uninstalled thinc-8.2.2\n",
      "Found existing installation: spacy 3.7.2\n",
      "Uninstalling spacy-3.7.2:\n",
      "  Successfully uninstalled spacy-3.7.2\n",
      "Found existing installation: torch 2.2.2\n",
      "Uninstalling torch-2.2.2:\n",
      "  Successfully uninstalled torch-2.2.2\n"
     ]
    }
   ],
   "source": [
    "!pip uninstall -y numpy thinc spacy torch\n"
   ]
  },
  {
   "cell_type": "code",
   "execution_count": 11,
   "id": "90f9fdca-2761-4210-9d3d-ff645c866199",
   "metadata": {},
   "outputs": [
    {
     "name": "stdout",
     "output_type": "stream",
     "text": [
      "Requirement already satisfied: numpy==1.26.4 in c:\\users\\91973\\anaconda3\\lib\\site-packages (1.26.4)\n",
      "Requirement already satisfied: torch==2.2.2 in c:\\users\\91973\\anaconda3\\lib\\site-packages (2.2.2)\n",
      "Requirement already satisfied: filelock in c:\\users\\91973\\anaconda3\\lib\\site-packages (from torch==2.2.2) (3.13.1)\n",
      "Requirement already satisfied: typing-extensions>=4.8.0 in c:\\users\\91973\\anaconda3\\lib\\site-packages (from torch==2.2.2) (4.11.0)\n",
      "Requirement already satisfied: sympy in c:\\users\\91973\\anaconda3\\lib\\site-packages (from torch==2.2.2) (1.13.1)\n",
      "Requirement already satisfied: networkx in c:\\users\\91973\\anaconda3\\lib\\site-packages (from torch==2.2.2) (3.3)\n",
      "Requirement already satisfied: jinja2 in c:\\users\\91973\\anaconda3\\lib\\site-packages (from torch==2.2.2) (3.1.4)\n",
      "Requirement already satisfied: fsspec in c:\\users\\91973\\anaconda3\\lib\\site-packages (from torch==2.2.2) (2024.6.1)\n",
      "Requirement already satisfied: MarkupSafe>=2.0 in c:\\users\\91973\\anaconda3\\lib\\site-packages (from jinja2->torch==2.2.2) (2.1.3)\n",
      "Requirement already satisfied: mpmath<1.4,>=1.1.0 in c:\\users\\91973\\anaconda3\\lib\\site-packages (from sympy->torch==2.2.2) (1.3.0)\n",
      "Requirement already satisfied: spacy==3.7.2 in c:\\users\\91973\\anaconda3\\lib\\site-packages (3.7.2)\n",
      "Requirement already satisfied: thinc==8.2.2 in c:\\users\\91973\\anaconda3\\lib\\site-packages (8.2.2)\n",
      "Requirement already satisfied: spacy-legacy<3.1.0,>=3.0.11 in c:\\users\\91973\\anaconda3\\lib\\site-packages (from spacy==3.7.2) (3.0.12)\n",
      "Requirement already satisfied: spacy-loggers<2.0.0,>=1.0.0 in c:\\users\\91973\\anaconda3\\lib\\site-packages (from spacy==3.7.2) (1.0.5)\n",
      "Requirement already satisfied: murmurhash<1.1.0,>=0.28.0 in c:\\users\\91973\\anaconda3\\lib\\site-packages (from spacy==3.7.2) (1.0.12)\n",
      "Requirement already satisfied: cymem<2.1.0,>=2.0.2 in c:\\users\\91973\\anaconda3\\lib\\site-packages (from spacy==3.7.2) (2.0.11)\n",
      "Requirement already satisfied: preshed<3.1.0,>=3.0.2 in c:\\users\\91973\\anaconda3\\lib\\site-packages (from spacy==3.7.2) (3.0.9)\n",
      "Requirement already satisfied: wasabi<1.2.0,>=0.9.1 in c:\\users\\91973\\anaconda3\\lib\\site-packages (from spacy==3.7.2) (1.1.3)\n",
      "Requirement already satisfied: srsly<3.0.0,>=2.4.3 in c:\\users\\91973\\anaconda3\\lib\\site-packages (from spacy==3.7.2) (2.5.1)\n",
      "Requirement already satisfied: catalogue<2.1.0,>=2.0.6 in c:\\users\\91973\\anaconda3\\lib\\site-packages (from spacy==3.7.2) (2.0.10)\n",
      "Requirement already satisfied: weasel<0.4.0,>=0.1.0 in c:\\users\\91973\\anaconda3\\lib\\site-packages (from spacy==3.7.2) (0.3.4)\n",
      "Requirement already satisfied: typer<0.10.0,>=0.3.0 in c:\\users\\91973\\anaconda3\\lib\\site-packages (from spacy==3.7.2) (0.9.4)\n",
      "Requirement already satisfied: smart-open<7.0.0,>=5.2.1 in c:\\users\\91973\\anaconda3\\lib\\site-packages (from spacy==3.7.2) (5.2.1)\n",
      "Requirement already satisfied: tqdm<5.0.0,>=4.38.0 in c:\\users\\91973\\anaconda3\\lib\\site-packages (from spacy==3.7.2) (4.66.5)\n",
      "Requirement already satisfied: requests<3.0.0,>=2.13.0 in c:\\users\\91973\\anaconda3\\lib\\site-packages (from spacy==3.7.2) (2.32.3)\n",
      "Requirement already satisfied: pydantic!=1.8,!=1.8.1,<3.0.0,>=1.7.4 in c:\\users\\91973\\anaconda3\\lib\\site-packages (from spacy==3.7.2) (2.8.2)\n",
      "Requirement already satisfied: jinja2 in c:\\users\\91973\\anaconda3\\lib\\site-packages (from spacy==3.7.2) (3.1.4)\n",
      "Requirement already satisfied: setuptools in c:\\users\\91973\\anaconda3\\lib\\site-packages (from spacy==3.7.2) (75.1.0)\n",
      "Requirement already satisfied: packaging>=20.0 in c:\\users\\91973\\anaconda3\\lib\\site-packages (from spacy==3.7.2) (24.1)\n",
      "Requirement already satisfied: langcodes<4.0.0,>=3.2.0 in c:\\users\\91973\\anaconda3\\lib\\site-packages (from spacy==3.7.2) (3.5.0)\n",
      "Requirement already satisfied: numpy>=1.19.0 in c:\\users\\91973\\anaconda3\\lib\\site-packages (from spacy==3.7.2) (1.26.4)\n",
      "Requirement already satisfied: blis<0.8.0,>=0.7.8 in c:\\users\\91973\\anaconda3\\lib\\site-packages (from thinc==8.2.2) (0.7.11)\n",
      "Requirement already satisfied: confection<1.0.0,>=0.0.1 in c:\\users\\91973\\anaconda3\\lib\\site-packages (from thinc==8.2.2) (0.1.5)\n",
      "Requirement already satisfied: language-data>=1.2 in c:\\users\\91973\\anaconda3\\lib\\site-packages (from langcodes<4.0.0,>=3.2.0->spacy==3.7.2) (1.3.0)\n",
      "Requirement already satisfied: annotated-types>=0.4.0 in c:\\users\\91973\\anaconda3\\lib\\site-packages (from pydantic!=1.8,!=1.8.1,<3.0.0,>=1.7.4->spacy==3.7.2) (0.6.0)\n",
      "Requirement already satisfied: pydantic-core==2.20.1 in c:\\users\\91973\\anaconda3\\lib\\site-packages (from pydantic!=1.8,!=1.8.1,<3.0.0,>=1.7.4->spacy==3.7.2) (2.20.1)\n",
      "Requirement already satisfied: typing-extensions>=4.6.1 in c:\\users\\91973\\anaconda3\\lib\\site-packages (from pydantic!=1.8,!=1.8.1,<3.0.0,>=1.7.4->spacy==3.7.2) (4.11.0)\n",
      "Requirement already satisfied: charset-normalizer<4,>=2 in c:\\users\\91973\\anaconda3\\lib\\site-packages (from requests<3.0.0,>=2.13.0->spacy==3.7.2) (3.3.2)\n",
      "Requirement already satisfied: idna<4,>=2.5 in c:\\users\\91973\\anaconda3\\lib\\site-packages (from requests<3.0.0,>=2.13.0->spacy==3.7.2) (3.7)\n",
      "Requirement already satisfied: urllib3<3,>=1.21.1 in c:\\users\\91973\\anaconda3\\lib\\site-packages (from requests<3.0.0,>=2.13.0->spacy==3.7.2) (2.2.3)\n",
      "Requirement already satisfied: certifi>=2017.4.17 in c:\\users\\91973\\anaconda3\\lib\\site-packages (from requests<3.0.0,>=2.13.0->spacy==3.7.2) (2024.8.30)\n",
      "Requirement already satisfied: colorama in c:\\users\\91973\\anaconda3\\lib\\site-packages (from tqdm<5.0.0,>=4.38.0->spacy==3.7.2) (0.4.6)\n",
      "Requirement already satisfied: click<9.0.0,>=7.1.1 in c:\\users\\91973\\anaconda3\\lib\\site-packages (from typer<0.10.0,>=0.3.0->spacy==3.7.2) (8.1.7)\n",
      "Requirement already satisfied: cloudpathlib<0.17.0,>=0.7.0 in c:\\users\\91973\\anaconda3\\lib\\site-packages (from weasel<0.4.0,>=0.1.0->spacy==3.7.2) (0.16.0)\n",
      "Requirement already satisfied: MarkupSafe>=2.0 in c:\\users\\91973\\anaconda3\\lib\\site-packages (from jinja2->spacy==3.7.2) (2.1.3)\n",
      "Requirement already satisfied: marisa-trie>=1.1.0 in c:\\users\\91973\\anaconda3\\lib\\site-packages (from language-data>=1.2->langcodes<4.0.0,>=3.2.0->spacy==3.7.2) (1.2.1)\n",
      "Requirement already satisfied: nltk in c:\\users\\91973\\anaconda3\\lib\\site-packages (3.9.1)\n",
      "Requirement already satisfied: textblob in c:\\users\\91973\\anaconda3\\lib\\site-packages (0.19.0)\n",
      "Requirement already satisfied: click in c:\\users\\91973\\anaconda3\\lib\\site-packages (from nltk) (8.1.7)\n",
      "Requirement already satisfied: joblib in c:\\users\\91973\\anaconda3\\lib\\site-packages (from nltk) (1.4.2)\n",
      "Requirement already satisfied: regex>=2021.8.3 in c:\\users\\91973\\anaconda3\\lib\\site-packages (from nltk) (2024.9.11)\n",
      "Requirement already satisfied: tqdm in c:\\users\\91973\\anaconda3\\lib\\site-packages (from nltk) (4.66.5)\n",
      "Requirement already satisfied: colorama in c:\\users\\91973\\anaconda3\\lib\\site-packages (from click->nltk) (0.4.6)\n"
     ]
    }
   ],
   "source": [
    "!pip install numpy==1.26.4\n",
    "!pip install torch==2.2.2\n",
    "!pip install spacy==3.7.2 thinc==8.2.2\n",
    "!pip install nltk textblob\n"
   ]
  },
  {
   "cell_type": "code",
   "execution_count": 16,
   "id": "0d2a0f3a-6739-442c-a090-a6e17ea8b58f",
   "metadata": {},
   "outputs": [
    {
     "name": "stdout",
     "output_type": "stream",
     "text": [
      "Collecting en-core-web-sm==3.7.1\n",
      "  Downloading https://github.com/explosion/spacy-models/releases/download/en_core_web_sm-3.7.1/en_core_web_sm-3.7.1-py3-none-any.whl (12.8 MB)\n",
      "     ---------------------------------------- 0.0/12.8 MB ? eta -:--:--\n",
      "     --- ------------------------------------ 1.0/12.8 MB 7.2 MB/s eta 0:00:02\n",
      "     --- ------------------------------------ 1.0/12.8 MB 7.2 MB/s eta 0:00:02\n",
      "     -------- ------------------------------- 2.6/12.8 MB 4.7 MB/s eta 0:00:03\n",
      "     ---------- ----------------------------- 3.4/12.8 MB 4.5 MB/s eta 0:00:03\n",
      "     ------------- -------------------------- 4.2/12.8 MB 4.3 MB/s eta 0:00:02\n",
      "     ---------------- ----------------------- 5.2/12.8 MB 4.2 MB/s eta 0:00:02\n",
      "     ------------------ --------------------- 6.0/12.8 MB 4.2 MB/s eta 0:00:02\n",
      "     --------------------- ------------------ 6.8/12.8 MB 4.2 MB/s eta 0:00:02\n",
      "     ----------------------- ---------------- 7.6/12.8 MB 4.2 MB/s eta 0:00:02\n",
      "     -------------------------- ------------- 8.4/12.8 MB 4.1 MB/s eta 0:00:02\n",
      "     ---------------------------- ----------- 9.2/12.8 MB 4.1 MB/s eta 0:00:01\n",
      "     ------------------------------- -------- 10.0/12.8 MB 4.1 MB/s eta 0:00:01\n",
      "     --------------------------------- ------ 10.7/12.8 MB 4.1 MB/s eta 0:00:01\n",
      "     ------------------------------------ --- 11.8/12.8 MB 4.1 MB/s eta 0:00:01\n",
      "     ---------------------------------------  12.6/12.8 MB 4.1 MB/s eta 0:00:01\n",
      "     ---------------------------------------- 12.8/12.8 MB 4.0 MB/s eta 0:00:00\n",
      "Requirement already satisfied: spacy<3.8.0,>=3.7.2 in c:\\users\\91973\\anaconda3\\lib\\site-packages (from en-core-web-sm==3.7.1) (3.7.2)\n",
      "Requirement already satisfied: spacy-legacy<3.1.0,>=3.0.11 in c:\\users\\91973\\anaconda3\\lib\\site-packages (from spacy<3.8.0,>=3.7.2->en-core-web-sm==3.7.1) (3.0.12)\n",
      "Requirement already satisfied: spacy-loggers<2.0.0,>=1.0.0 in c:\\users\\91973\\anaconda3\\lib\\site-packages (from spacy<3.8.0,>=3.7.2->en-core-web-sm==3.7.1) (1.0.5)\n",
      "Requirement already satisfied: murmurhash<1.1.0,>=0.28.0 in c:\\users\\91973\\anaconda3\\lib\\site-packages (from spacy<3.8.0,>=3.7.2->en-core-web-sm==3.7.1) (1.0.12)\n",
      "Requirement already satisfied: cymem<2.1.0,>=2.0.2 in c:\\users\\91973\\anaconda3\\lib\\site-packages (from spacy<3.8.0,>=3.7.2->en-core-web-sm==3.7.1) (2.0.11)\n",
      "Requirement already satisfied: preshed<3.1.0,>=3.0.2 in c:\\users\\91973\\anaconda3\\lib\\site-packages (from spacy<3.8.0,>=3.7.2->en-core-web-sm==3.7.1) (3.0.9)\n",
      "Requirement already satisfied: thinc<8.3.0,>=8.1.8 in c:\\users\\91973\\anaconda3\\lib\\site-packages (from spacy<3.8.0,>=3.7.2->en-core-web-sm==3.7.1) (8.2.2)\n",
      "Requirement already satisfied: wasabi<1.2.0,>=0.9.1 in c:\\users\\91973\\anaconda3\\lib\\site-packages (from spacy<3.8.0,>=3.7.2->en-core-web-sm==3.7.1) (1.1.3)\n",
      "Requirement already satisfied: srsly<3.0.0,>=2.4.3 in c:\\users\\91973\\anaconda3\\lib\\site-packages (from spacy<3.8.0,>=3.7.2->en-core-web-sm==3.7.1) (2.5.1)\n",
      "Requirement already satisfied: catalogue<2.1.0,>=2.0.6 in c:\\users\\91973\\anaconda3\\lib\\site-packages (from spacy<3.8.0,>=3.7.2->en-core-web-sm==3.7.1) (2.0.10)\n",
      "Requirement already satisfied: weasel<0.4.0,>=0.1.0 in c:\\users\\91973\\anaconda3\\lib\\site-packages (from spacy<3.8.0,>=3.7.2->en-core-web-sm==3.7.1) (0.3.4)\n",
      "Requirement already satisfied: typer<0.10.0,>=0.3.0 in c:\\users\\91973\\anaconda3\\lib\\site-packages (from spacy<3.8.0,>=3.7.2->en-core-web-sm==3.7.1) (0.9.4)\n",
      "Requirement already satisfied: smart-open<7.0.0,>=5.2.1 in c:\\users\\91973\\anaconda3\\lib\\site-packages (from spacy<3.8.0,>=3.7.2->en-core-web-sm==3.7.1) (5.2.1)\n",
      "Requirement already satisfied: tqdm<5.0.0,>=4.38.0 in c:\\users\\91973\\anaconda3\\lib\\site-packages (from spacy<3.8.0,>=3.7.2->en-core-web-sm==3.7.1) (4.66.5)\n",
      "Requirement already satisfied: requests<3.0.0,>=2.13.0 in c:\\users\\91973\\anaconda3\\lib\\site-packages (from spacy<3.8.0,>=3.7.2->en-core-web-sm==3.7.1) (2.32.3)\n",
      "Requirement already satisfied: pydantic!=1.8,!=1.8.1,<3.0.0,>=1.7.4 in c:\\users\\91973\\anaconda3\\lib\\site-packages (from spacy<3.8.0,>=3.7.2->en-core-web-sm==3.7.1) (2.8.2)\n",
      "Requirement already satisfied: jinja2 in c:\\users\\91973\\anaconda3\\lib\\site-packages (from spacy<3.8.0,>=3.7.2->en-core-web-sm==3.7.1) (3.1.4)\n",
      "Requirement already satisfied: setuptools in c:\\users\\91973\\anaconda3\\lib\\site-packages (from spacy<3.8.0,>=3.7.2->en-core-web-sm==3.7.1) (75.1.0)\n",
      "Requirement already satisfied: packaging>=20.0 in c:\\users\\91973\\anaconda3\\lib\\site-packages (from spacy<3.8.0,>=3.7.2->en-core-web-sm==3.7.1) (24.1)\n",
      "Requirement already satisfied: langcodes<4.0.0,>=3.2.0 in c:\\users\\91973\\anaconda3\\lib\\site-packages (from spacy<3.8.0,>=3.7.2->en-core-web-sm==3.7.1) (3.5.0)\n",
      "Requirement already satisfied: numpy>=1.19.0 in c:\\users\\91973\\anaconda3\\lib\\site-packages (from spacy<3.8.0,>=3.7.2->en-core-web-sm==3.7.1) (1.26.4)\n",
      "Requirement already satisfied: language-data>=1.2 in c:\\users\\91973\\anaconda3\\lib\\site-packages (from langcodes<4.0.0,>=3.2.0->spacy<3.8.0,>=3.7.2->en-core-web-sm==3.7.1) (1.3.0)\n",
      "Requirement already satisfied: annotated-types>=0.4.0 in c:\\users\\91973\\anaconda3\\lib\\site-packages (from pydantic!=1.8,!=1.8.1,<3.0.0,>=1.7.4->spacy<3.8.0,>=3.7.2->en-core-web-sm==3.7.1) (0.6.0)\n",
      "Requirement already satisfied: pydantic-core==2.20.1 in c:\\users\\91973\\anaconda3\\lib\\site-packages (from pydantic!=1.8,!=1.8.1,<3.0.0,>=1.7.4->spacy<3.8.0,>=3.7.2->en-core-web-sm==3.7.1) (2.20.1)\n",
      "Requirement already satisfied: typing-extensions>=4.6.1 in c:\\users\\91973\\anaconda3\\lib\\site-packages (from pydantic!=1.8,!=1.8.1,<3.0.0,>=1.7.4->spacy<3.8.0,>=3.7.2->en-core-web-sm==3.7.1) (4.11.0)\n",
      "Requirement already satisfied: charset-normalizer<4,>=2 in c:\\users\\91973\\anaconda3\\lib\\site-packages (from requests<3.0.0,>=2.13.0->spacy<3.8.0,>=3.7.2->en-core-web-sm==3.7.1) (3.3.2)\n",
      "Requirement already satisfied: idna<4,>=2.5 in c:\\users\\91973\\anaconda3\\lib\\site-packages (from requests<3.0.0,>=2.13.0->spacy<3.8.0,>=3.7.2->en-core-web-sm==3.7.1) (3.7)\n",
      "Requirement already satisfied: urllib3<3,>=1.21.1 in c:\\users\\91973\\anaconda3\\lib\\site-packages (from requests<3.0.0,>=2.13.0->spacy<3.8.0,>=3.7.2->en-core-web-sm==3.7.1) (2.2.3)\n",
      "Requirement already satisfied: certifi>=2017.4.17 in c:\\users\\91973\\anaconda3\\lib\\site-packages (from requests<3.0.0,>=2.13.0->spacy<3.8.0,>=3.7.2->en-core-web-sm==3.7.1) (2024.8.30)\n",
      "Requirement already satisfied: blis<0.8.0,>=0.7.8 in c:\\users\\91973\\anaconda3\\lib\\site-packages (from thinc<8.3.0,>=8.1.8->spacy<3.8.0,>=3.7.2->en-core-web-sm==3.7.1) (0.7.11)\n",
      "Requirement already satisfied: confection<1.0.0,>=0.0.1 in c:\\users\\91973\\anaconda3\\lib\\site-packages (from thinc<8.3.0,>=8.1.8->spacy<3.8.0,>=3.7.2->en-core-web-sm==3.7.1) (0.1.5)\n",
      "Requirement already satisfied: colorama in c:\\users\\91973\\anaconda3\\lib\\site-packages (from tqdm<5.0.0,>=4.38.0->spacy<3.8.0,>=3.7.2->en-core-web-sm==3.7.1) (0.4.6)\n",
      "Requirement already satisfied: click<9.0.0,>=7.1.1 in c:\\users\\91973\\anaconda3\\lib\\site-packages (from typer<0.10.0,>=0.3.0->spacy<3.8.0,>=3.7.2->en-core-web-sm==3.7.1) (8.1.7)\n",
      "Requirement already satisfied: cloudpathlib<0.17.0,>=0.7.0 in c:\\users\\91973\\anaconda3\\lib\\site-packages (from weasel<0.4.0,>=0.1.0->spacy<3.8.0,>=3.7.2->en-core-web-sm==3.7.1) (0.16.0)\n",
      "Requirement already satisfied: MarkupSafe>=2.0 in c:\\users\\91973\\anaconda3\\lib\\site-packages (from jinja2->spacy<3.8.0,>=3.7.2->en-core-web-sm==3.7.1) (2.1.3)\n",
      "Requirement already satisfied: marisa-trie>=1.1.0 in c:\\users\\91973\\anaconda3\\lib\\site-packages (from language-data>=1.2->langcodes<4.0.0,>=3.2.0->spacy<3.8.0,>=3.7.2->en-core-web-sm==3.7.1) (1.2.1)\n",
      "Installing collected packages: en-core-web-sm\n",
      "Successfully installed en-core-web-sm-3.7.1\n",
      "\u001b[38;5;2m[+] Download and installation successful\u001b[0m\n",
      "You can now load the package via spacy.load('en_core_web_sm')\n"
     ]
    }
   ],
   "source": [
    "!python -m spacy download en_core_web_sm\n"
   ]
  },
  {
   "cell_type": "code",
   "execution_count": 18,
   "id": "c5b328b0-6561-459f-b27d-0be875e9b70b",
   "metadata": {},
   "outputs": [
    {
     "name": "stderr",
     "output_type": "stream",
     "text": [
      "[nltk_data] Downloading package stopwords to\n",
      "[nltk_data]     C:\\Users\\91973\\AppData\\Roaming\\nltk_data...\n",
      "[nltk_data]   Package stopwords is already up-to-date!\n"
     ]
    },
    {
     "name": "stdout",
     "output_type": "stream",
     "text": [
      "Normalized Text: love product amazing bought amazon last week delivery quick highly recommended\n",
      "Named Entities: [('last week', 'DATE')]\n",
      "Sentiment Polarity: 0.319, Subjectivity: 0.521\n",
      "Overall Sentiment: Positive\n"
     ]
    }
   ],
   "source": [
    "import re\n",
    "import spacy\n",
    "from textblob import TextBlob\n",
    "import nltk\n",
    "from nltk.corpus import stopwords\n",
    "\n",
    "# Download nltk stopwords if not already done\n",
    "nltk.download('stopwords')\n",
    "\n",
    "# Load spaCy model for NER\n",
    "nlp = spacy.load('en_core_web_sm')\n",
    "\n",
    "# Sample raw text (e.g. customer review or tweet)\n",
    "raw_text = \"\"\"\n",
    "I LOVE this product!!! 😍😍 It's amazing. Bought it from Amazon last week. \n",
    "Delivery was quick. Highly recommended. #happycustomer @amazon\n",
    "\"\"\"\n",
    "\n",
    "# 1. Text Normalization\n",
    "def normalize_text(text):\n",
    "    # Lowercase\n",
    "    text = text.lower()\n",
    "    # Remove URLs\n",
    "    text = re.sub(r'http\\S+|www\\S+|https\\S+', '', text, flags=re.MULTILINE)\n",
    "    # Remove mentions and hashtags\n",
    "    text = re.sub(r'@\\w+|#\\w+', '', text)\n",
    "    # Remove emojis and special characters (basic)\n",
    "    text = re.sub(r'[^\\w\\s]', '', text)\n",
    "    # Remove extra whitespace\n",
    "    text = re.sub(r'\\s+', ' ', text).strip()\n",
    "    # Remove stopwords\n",
    "    stop_words = set(stopwords.words('english'))\n",
    "    filtered_words = [w for w in text.split() if w not in stop_words]\n",
    "    return ' '.join(filtered_words)\n",
    "\n",
    "normalized_text = normalize_text(raw_text)\n",
    "print(\"Normalized Text:\", normalized_text)\n",
    "\n",
    "# 2. Named Entity Recognition (NER)\n",
    "doc = nlp(normalized_text)\n",
    "entities = [(ent.text, ent.label_) for ent in doc.ents]\n",
    "print(\"Named Entities:\", entities)\n",
    "\n",
    "# 3. Sentiment Analysis\n",
    "sentiment = TextBlob(normalized_text).sentiment\n",
    "print(f\"Sentiment Polarity: {sentiment.polarity:.3f}, Subjectivity: {sentiment.subjectivity:.3f}\")\n",
    "\n",
    "# Validate sentiment\n",
    "if sentiment.polarity > 0:\n",
    "    print(\"Overall Sentiment: Positive\")\n",
    "elif sentiment.polarity < 0:\n",
    "    print(\"Overall Sentiment: Negative\")\n",
    "else:\n",
    "    print(\"Overall Sentiment: Neutral\")\n"
   ]
  },
  {
   "cell_type": "code",
   "execution_count": 20,
   "id": "9e67aec3-0042-4748-89a8-a61a4263721c",
   "metadata": {},
   "outputs": [
    {
     "name": "stderr",
     "output_type": "stream",
     "text": [
      "[nltk_data] Downloading package stopwords to\n",
      "[nltk_data]     C:\\Users\\91973\\AppData\\Roaming\\nltk_data...\n",
      "[nltk_data]   Package stopwords is already up-to-date!\n"
     ]
    },
    {
     "name": "stdout",
     "output_type": "stream",
     "text": [
      "\n",
      "--- Text Analytics Interactive Tool ---\n"
     ]
    },
    {
     "name": "stdin",
     "output_type": "stream",
     "text": [
      "Enter your text (or type 'exit' to quit):\n",
      ">  I LOVE this product!!! 😍😍 It's amazing. Bought it from Amazon last week. Delivery was quick. Highly recommended. #happycustomer @amazon\n"
     ]
    },
    {
     "name": "stdout",
     "output_type": "stream",
     "text": [
      "\n",
      "Normalized Text: love product amazing bought amazon last week delivery quick highly recommended\n",
      "Named Entities: [('last week', 'DATE')]\n",
      "Sentiment Polarity: 0.319, Subjectivity: 0.521\n",
      "Overall Sentiment: Positive\n",
      "\n",
      "--- Text Analytics Interactive Tool ---\n"
     ]
    },
    {
     "name": "stdin",
     "output_type": "stream",
     "text": [
      "Enter your text (or type 'exit' to quit):\n",
      ">  Totally disappointed. 😡 Ordered a phone, received a used one. I want a refund ASAP! Worst service ever.\n"
     ]
    },
    {
     "name": "stdout",
     "output_type": "stream",
     "text": [
      "\n",
      "Normalized Text: totally disappointed ordered phone received used one want refund asap worst service ever\n",
      "Named Entities: [('one', 'CARDINAL')]\n",
      "Sentiment Polarity: -0.875, Subjectivity: 0.875\n",
      "Overall Sentiment: Negative\n",
      "\n",
      "--- Text Analytics Interactive Tool ---\n"
     ]
    },
    {
     "name": "stdin",
     "output_type": "stream",
     "text": [
      "Enter your text (or type 'exit' to quit):\n",
      ">  The Prime Minister met with officials in New Delhi to discuss the new economic policies on Monday.\n"
     ]
    },
    {
     "name": "stdout",
     "output_type": "stream",
     "text": [
      "\n",
      "Normalized Text: prime minister met officials new delhi discuss new economic policies monday\n",
      "Named Entities: [('new delhi', 'GPE'), ('monday', 'DATE')]\n",
      "Sentiment Polarity: 0.158, Subjectivity: 0.370\n",
      "Overall Sentiment: Positive\n",
      "\n",
      "--- Text Analytics Interactive Tool ---\n"
     ]
    },
    {
     "name": "stdin",
     "output_type": "stream",
     "text": [
      "Enter your text (or type 'exit' to quit):\n",
      ">  @elonmusk just dropped a major update for #Tesla FSD. Can't wait to try it on the road! #technews 🚗🚀\n"
     ]
    },
    {
     "name": "stdout",
     "output_type": "stream",
     "text": [
      "\n",
      "Normalized Text: dropped major update fsd cant wait try road\n",
      "Named Entities: No named entities found.\n",
      "Sentiment Polarity: 0.062, Subjectivity: 0.500\n",
      "Overall Sentiment: Positive\n",
      "\n",
      "--- Text Analytics Interactive Tool ---\n"
     ]
    },
    {
     "name": "stdin",
     "output_type": "stream",
     "text": [
      "Enter your text (or type 'exit' to quit):\n",
      ">  The hotel was beautiful and the staff were friendly, but the food was terrible and overpriced.\n"
     ]
    },
    {
     "name": "stdout",
     "output_type": "stream",
     "text": [
      "\n",
      "Normalized Text: hotel beautiful staff friendly food terrible overpriced\n",
      "Named Entities: No named entities found.\n",
      "Sentiment Polarity: 0.075, Subjectivity: 0.833\n",
      "Overall Sentiment: Positive\n",
      "\n",
      "--- Text Analytics Interactive Tool ---\n"
     ]
    },
    {
     "name": "stdin",
     "output_type": "stream",
     "text": [
      "Enter your text (or type 'exit' to quit):\n",
      ">  Hurry! Get 50% OFF on all electronics at Flipkart. Limited time only! Visit: https://flipkart.com #Sale\n"
     ]
    },
    {
     "name": "stdout",
     "output_type": "stream",
     "text": [
      "\n",
      "Normalized Text: hurry get 50 electronics flipkart limited time visit\n",
      "Named Entities: [('50', 'CARDINAL')]\n",
      "Sentiment Polarity: -0.071, Subjectivity: 0.143\n",
      "Overall Sentiment: Negative\n",
      "\n",
      "--- Text Analytics Interactive Tool ---\n"
     ]
    },
    {
     "name": "stdin",
     "output_type": "stream",
     "text": [
      "Enter your text (or type 'exit' to quit):\n",
      ">  Can’t believe this happened! 😱😤 Email me at user123@example.com or visit www.myshop.com for more info!!!\n"
     ]
    },
    {
     "name": "stdout",
     "output_type": "stream",
     "text": [
      "\n",
      "Normalized Text: cant believe happened email user123com visit info\n",
      "Named Entities: No named entities found.\n",
      "Sentiment Polarity: 0.000, Subjectivity: 0.000\n",
      "Overall Sentiment: Neutral\n",
      "\n",
      "--- Text Analytics Interactive Tool ---\n"
     ]
    },
    {
     "name": "stdin",
     "output_type": "stream",
     "text": [
      "Enter your text (or type 'exit' to quit):\n",
      ">  Okay.\n"
     ]
    },
    {
     "name": "stdout",
     "output_type": "stream",
     "text": [
      "\n",
      "Normalized Text: okay\n",
      "Named Entities: No named entities found.\n",
      "Sentiment Polarity: 0.500, Subjectivity: 0.500\n",
      "Overall Sentiment: Positive\n",
      "\n",
      "--- Text Analytics Interactive Tool ---\n"
     ]
    },
    {
     "name": "stdin",
     "output_type": "stream",
     "text": [
      "Enter your text (or type 'exit' to quit):\n",
      ">  😂🔥💯\n"
     ]
    },
    {
     "name": "stdout",
     "output_type": "stream",
     "text": [
      "\n",
      "Normalized Text: \n",
      "Named Entities: No named entities found.\n",
      "Sentiment Polarity: 0.000, Subjectivity: 0.000\n",
      "Overall Sentiment: Neutral\n",
      "\n",
      "--- Text Analytics Interactive Tool ---\n"
     ]
    },
    {
     "name": "stdin",
     "output_type": "stream",
     "text": [
      "Enter your text (or type 'exit' to quit):\n",
      ">  Buy now!!! Cheap meds at low price $$$ Visit NOW —> http://spam-site.com\n"
     ]
    },
    {
     "name": "stdout",
     "output_type": "stream",
     "text": [
      "\n",
      "Normalized Text: buy cheap meds low price visit\n",
      "Named Entities: No named entities found.\n",
      "Sentiment Polarity: 0.200, Subjectivity: 0.500\n",
      "Overall Sentiment: Positive\n",
      "\n",
      "--- Text Analytics Interactive Tool ---\n"
     ]
    },
    {
     "name": "stdin",
     "output_type": "stream",
     "text": [
      "Enter your text (or type 'exit' to quit):\n",
      ">  The CRISPR-Cas9 system was first described in 2012. It revolutionized genome editing in molecular biology.\n"
     ]
    },
    {
     "name": "stdout",
     "output_type": "stream",
     "text": [
      "\n",
      "Normalized Text: crisprcas9 system first described 2012 revolutionized genome editing molecular biology\n",
      "Named Entities: [('first', 'ORDINAL'), ('2012', 'DATE')]\n",
      "Sentiment Polarity: 0.250, Subjectivity: 0.333\n",
      "Overall Sentiment: Positive\n",
      "\n",
      "--- Text Analytics Interactive Tool ---\n"
     ]
    },
    {
     "name": "stdin",
     "output_type": "stream",
     "text": [
      "Enter your text (or type 'exit' to quit):\n",
      ">  Can you tell me the weather in Bengaluru tomorrow?\n"
     ]
    },
    {
     "name": "stdout",
     "output_type": "stream",
     "text": [
      "\n",
      "Normalized Text: tell weather bengaluru tomorrow\n",
      "Named Entities: [('tomorrow', 'DATE')]\n",
      "Sentiment Polarity: 0.000, Subjectivity: 0.000\n",
      "Overall Sentiment: Neutral\n",
      "\n",
      "--- Text Analytics Interactive Tool ---\n"
     ]
    },
    {
     "name": "stdin",
     "output_type": "stream",
     "text": [
      "Enter your text (or type 'exit' to quit):\n",
      ">  @zomato I waited 1 hour and still no food delivered. This is unacceptable!\n"
     ]
    },
    {
     "name": "stdout",
     "output_type": "stream",
     "text": [
      "\n",
      "Normalized Text: waited 1 hour still food delivered unacceptable\n",
      "Named Entities: [('1 hour', 'TIME')]\n",
      "Sentiment Polarity: 0.000, Subjectivity: 0.000\n",
      "Overall Sentiment: Neutral\n",
      "\n",
      "--- Text Analytics Interactive Tool ---\n"
     ]
    },
    {
     "name": "stdin",
     "output_type": "stream",
     "text": [
      "Enter your text (or type 'exit' to quit):\n",
      ">  exit\n"
     ]
    }
   ],
   "source": [
    "import re\n",
    "import spacy\n",
    "from textblob import TextBlob\n",
    "import nltk\n",
    "from nltk.corpus import stopwords\n",
    "\n",
    "# Download stopwords if not already downloaded\n",
    "nltk.download('stopwords')\n",
    "\n",
    "# Load spaCy model\n",
    "nlp = spacy.load('en_core_web_sm')\n",
    "\n",
    "# Text normalization function\n",
    "def normalize_text(text):\n",
    "    text = text.lower()\n",
    "    text = re.sub(r'http\\S+|www\\S+|https\\S+', '', text, flags=re.MULTILINE)\n",
    "    text = re.sub(r'@\\w+|#\\w+', '', text)\n",
    "    text = re.sub(r'[^\\w\\s]', '', text)\n",
    "    text = re.sub(r'\\s+', ' ', text).strip()\n",
    "    stop_words = set(stopwords.words('english'))\n",
    "    filtered_words = [w for w in text.split() if w not in stop_words]\n",
    "    return ' '.join(filtered_words)\n",
    "\n",
    "# Interactive loop\n",
    "while True:\n",
    "    print(\"\\n--- Text Analytics Interactive Tool ---\")\n",
    "    user_input = input(\"Enter your text (or type 'exit' to quit):\\n> \")\n",
    "\n",
    "    if user_input.lower() == 'exit':\n",
    "        break\n",
    "\n",
    "    normalized_text = normalize_text(user_input)\n",
    "    print(\"\\nNormalized Text:\", normalized_text)\n",
    "\n",
    "    doc = nlp(normalized_text)\n",
    "    entities = [(ent.text, ent.label_) for ent in doc.ents]\n",
    "    print(\"Named Entities:\", entities if entities else \"No named entities found.\")\n",
    "\n",
    "    sentiment = TextBlob(normalized_text).sentiment\n",
    "    print(f\"Sentiment Polarity: {sentiment.polarity:.3f}, Subjectivity: {sentiment.subjectivity:.3f}\")\n",
    "\n",
    "    if sentiment.polarity > 0:\n",
    "        print(\"Overall Sentiment: Positive\")\n",
    "    elif sentiment.polarity < 0:\n",
    "        print(\"Overall Sentiment: Negative\")\n",
    "    else:\n",
    "        print(\"Overall Sentiment: Neutral\")\n"
   ]
  },
  {
   "cell_type": "code",
   "execution_count": null,
   "id": "20a4f0e3-ebe9-49e4-836e-49623d8518e4",
   "metadata": {},
   "outputs": [],
   "source": []
  }
 ],
 "metadata": {
  "kernelspec": {
   "display_name": "Python 3 (ipykernel)",
   "language": "python",
   "name": "python3"
  },
  "language_info": {
   "codemirror_mode": {
    "name": "ipython",
    "version": 3
   },
   "file_extension": ".py",
   "mimetype": "text/x-python",
   "name": "python",
   "nbconvert_exporter": "python",
   "pygments_lexer": "ipython3",
   "version": "3.12.7"
  }
 },
 "nbformat": 4,
 "nbformat_minor": 5
}
